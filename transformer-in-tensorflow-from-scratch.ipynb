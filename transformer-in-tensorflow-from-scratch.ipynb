{
 "cells": [
  {
   "cell_type": "markdown",
   "id": "40162d4e",
   "metadata": {
    "papermill": {
     "duration": 0.02089,
     "end_time": "2025-01-31T16:09:50.154606",
     "exception": false,
     "start_time": "2025-01-31T16:09:50.133716",
     "status": "completed"
    },
    "tags": []
   },
   "source": [
    "# Implementation of the Transformer architecture <a class=\"tocSkip\">"
   ]
  },
  {
   "cell_type": "markdown",
   "id": "be005f0c",
   "metadata": {
    "papermill": {
     "duration": 0.019012,
     "end_time": "2025-01-31T16:09:50.193053",
     "exception": false,
     "start_time": "2025-01-31T16:09:50.174041",
     "status": "completed"
    },
    "tags": []
   },
   "source": [
    "Here we propose a TensorFlow implementation from scratch of the Transformer as described in the original article [Vaswani et. al. Attention is all you need. Advances in Neural Information Processing Systems, 2017]. \n",
    "\n",
    "We give a detailed report on this article and define all the notations in an attached notebook. See https://www.kaggle.com/samuelnordmann/transformers-report-on-attention-is-all-you-need/\n",
    "\n",
    "The details of the implementation follow the same lines as the one of Andrew Ng in his Specialization course on Deep Learning.\n",
    "\n"
   ]
  },
  {
   "cell_type": "markdown",
   "id": "e9d68cb0",
   "metadata": {
    "papermill": {
     "duration": 0.018928,
     "end_time": "2025-01-31T16:09:50.231058",
     "exception": false,
     "start_time": "2025-01-31T16:09:50.212130",
     "status": "completed"
    },
    "tags": [],
    "toc": true
   },
   "source": [
    "<h1>Table of Contents<span class=\"tocSkip\"></span></h1>\n",
    "<div class=\"toc\"><ul class=\"toc-item\"><li><span><a href=\"#Packages\" data-toc-modified-id=\"Packages-1\"><span class=\"toc-item-num\">1&nbsp;&nbsp;</span>Packages</a></span></li><li><span><a href=\"#Sub-layers\" data-toc-modified-id=\"Sub-layers-2\"><span class=\"toc-item-num\">2&nbsp;&nbsp;</span>Sub layers</a></span><ul class=\"toc-item\"><li><span><a href=\"#Masking\" data-toc-modified-id=\"Masking-2.1\"><span class=\"toc-item-num\">2.1&nbsp;&nbsp;</span>Masking</a></span><ul class=\"toc-item\"><li><span><a href=\"#Padding-mask\" data-toc-modified-id=\"Padding-mask-2.1.1\"><span class=\"toc-item-num\">2.1.1&nbsp;&nbsp;</span>Padding mask</a></span></li><li><span><a href=\"#Look-ahead-Mask\" data-toc-modified-id=\"Look-ahead-Mask-2.1.2\"><span class=\"toc-item-num\">2.1.2&nbsp;&nbsp;</span>Look-ahead Mask</a></span></li></ul></li><li><span><a href=\"#Attention\" data-toc-modified-id=\"Attention-2.2\"><span class=\"toc-item-num\">2.2&nbsp;&nbsp;</span>Attention</a></span><ul class=\"toc-item\"><li><span><a href=\"#Single-head-attention\" data-toc-modified-id=\"Single-head-attention-2.2.1\"><span class=\"toc-item-num\">2.2.1&nbsp;&nbsp;</span>Single head attention</a></span></li><li><span><a href=\"#MultiHead-Attention\" data-toc-modified-id=\"MultiHead-Attention-2.2.2\"><span class=\"toc-item-num\">2.2.2&nbsp;&nbsp;</span>MultiHead Attention</a></span></li></ul></li><li><span><a href=\"#Pointwise-FNN\" data-toc-modified-id=\"Pointwise-FNN-2.3\"><span class=\"toc-item-num\">2.3&nbsp;&nbsp;</span>Pointwise FNN</a></span></li><li><span><a href=\"#Positional-encoding\" data-toc-modified-id=\"Positional-encoding-2.4\"><span class=\"toc-item-num\">2.4&nbsp;&nbsp;</span>Positional encoding</a></span></li></ul></li><li><span><a href=\"#Encoder\" data-toc-modified-id=\"Encoder-3\"><span class=\"toc-item-num\">3&nbsp;&nbsp;</span>Encoder</a></span><ul class=\"toc-item\"><li><span><a href=\"#Encoder-layer\" data-toc-modified-id=\"Encoder-layer-3.1\"><span class=\"toc-item-num\">3.1&nbsp;&nbsp;</span>Encoder layer</a></span></li><li><span><a href=\"#Full-Encoder\" data-toc-modified-id=\"Full-Encoder-3.2\"><span class=\"toc-item-num\">3.2&nbsp;&nbsp;</span>Full Encoder</a></span></li></ul></li><li><span><a href=\"#Decoder\" data-toc-modified-id=\"Decoder-4\"><span class=\"toc-item-num\">4&nbsp;&nbsp;</span>Decoder</a></span><ul class=\"toc-item\"><li><span><a href=\"#Decoder-layer\" data-toc-modified-id=\"Decoder-layer-4.1\"><span class=\"toc-item-num\">4.1&nbsp;&nbsp;</span>Decoder layer</a></span></li><li><span><a href=\"#Full-decoder\" data-toc-modified-id=\"Full-decoder-4.2\"><span class=\"toc-item-num\">4.2&nbsp;&nbsp;</span>Full decoder</a></span></li></ul></li><li><span><a href=\"#Transformer\" data-toc-modified-id=\"Transformer-5\"><span class=\"toc-item-num\">5&nbsp;&nbsp;</span>Transformer</a></span><ul class=\"toc-item\"><li><span><a href=\"#Compilation-of-the-model\" data-toc-modified-id=\"Compilation-of-the-model-5.1\"><span class=\"toc-item-num\">5.1&nbsp;&nbsp;</span>Compilation of the model</a></span></li></ul></li><li><span><a href=\"#Training\" data-toc-modified-id=\"Training-6\"><span class=\"toc-item-num\">6&nbsp;&nbsp;</span>Training</a></span><ul class=\"toc-item\"><li><span><a href=\"#Learning-rate-scheduler\" data-toc-modified-id=\"Learning-rate-scheduler-6.1\"><span class=\"toc-item-num\">6.1&nbsp;&nbsp;</span>Learning rate scheduler</a></span></li></ul></li></ul></div>"
   ]
  },
  {
   "cell_type": "markdown",
   "id": "8ce3a15c",
   "metadata": {
    "papermill": {
     "duration": 0.018869,
     "end_time": "2025-01-31T16:09:50.268927",
     "exception": false,
     "start_time": "2025-01-31T16:09:50.250058",
     "status": "completed"
    },
    "tags": []
   },
   "source": [
    "# Packages"
   ]
  },
  {
   "cell_type": "code",
   "execution_count": 1,
   "id": "a38c4eab",
   "metadata": {
    "execution": {
     "iopub.execute_input": "2025-01-31T16:09:50.316913Z",
     "iopub.status.busy": "2025-01-31T16:09:50.316399Z",
     "iopub.status.idle": "2025-01-31T16:09:56.402764Z",
     "shell.execute_reply": "2025-01-31T16:09:56.402212Z"
    },
    "papermill": {
     "duration": 6.11344,
     "end_time": "2025-01-31T16:09:56.402908",
     "exception": false,
     "start_time": "2025-01-31T16:09:50.289468",
     "status": "completed"
    },
    "tags": []
   },
   "outputs": [
    {
     "name": "stdout",
     "output_type": "stream",
     "text": [
      "2.6.2\n"
     ]
    }
   ],
   "source": [
    "import tensorflow as tf\n",
    "import pandas as pd\n",
    "import time\n",
    "import numpy as np\n",
    "import matplotlib.pyplot as plt\n",
    "\n",
    "from tensorflow.keras.layers import Embedding, Dense, Input, Dropout, LayerNormalization, Conv1D, Reshape\n",
    "\n",
    "print(tf.__version__)\n"
   ]
  },
  {
   "cell_type": "markdown",
   "id": "908473da",
   "metadata": {
    "papermill": {
     "duration": 0.019495,
     "end_time": "2025-01-31T16:09:56.442844",
     "exception": false,
     "start_time": "2025-01-31T16:09:56.423349",
     "status": "completed"
    },
    "tags": []
   },
   "source": [
    "# Sub layers"
   ]
  },
  {
   "cell_type": "markdown",
   "id": "c08a6b28",
   "metadata": {
    "papermill": {
     "duration": 0.019475,
     "end_time": "2025-01-31T16:09:56.481850",
     "exception": false,
     "start_time": "2025-01-31T16:09:56.462375",
     "status": "completed"
    },
    "tags": []
   },
   "source": [
    "## Attention"
   ]
  },
  {
   "cell_type": "markdown",
   "id": "9ba0da5e",
   "metadata": {
    "papermill": {
     "duration": 0.020332,
     "end_time": "2025-01-31T16:09:56.521819",
     "exception": false,
     "start_time": "2025-01-31T16:09:56.501487",
     "status": "completed"
    },
    "tags": []
   },
   "source": [
    "### Single head attention"
   ]
  },
  {
   "cell_type": "code",
   "execution_count": 2,
   "id": "dc4aa8fb",
   "metadata": {
    "execution": {
     "iopub.execute_input": "2025-01-31T16:09:56.566610Z",
     "iopub.status.busy": "2025-01-31T16:09:56.566041Z",
     "iopub.status.idle": "2025-01-31T16:09:56.568543Z",
     "shell.execute_reply": "2025-01-31T16:09:56.568941Z"
    },
    "papermill": {
     "duration": 0.027589,
     "end_time": "2025-01-31T16:09:56.569055",
     "exception": false,
     "start_time": "2025-01-31T16:09:56.541466",
     "status": "completed"
    },
    "tags": []
   },
   "outputs": [],
   "source": [
    "def scaled_dot_product_attention(Q, K, V, mask=None):\n",
    "    \"\"\"\n",
    "    Calculate the attention weights.\n",
    "\n",
    "    Arguments:\n",
    "        Q -- query shape == (..., Tq, dk)\n",
    "        K -- key shape == (..., Tv, dk)\n",
    "        V -- value shape == (..., Tv, dv)\n",
    "        mask: Float tensor with shape broadcastable to (..., Tq, Tv). Defaults to None.\n",
    "\n",
    "    Returns:\n",
    "        output -- (attention,attention_weights)\n",
    "    \"\"\"\n",
    "    \n",
    "    #Compute the scaled dot-product Q•K\n",
    "    matmul_QK = tf.matmul(Q,K,transpose_b=True)  # dot-product of shape (..., Tq, Tv)\n",
    "\n",
    "    dk = K.shape[-1]\n",
    "    scaled_attention_logits = matmul_QK/np.sqrt(dk) # scaled dot-product of shape (..., Tq, Tv)\n",
    "\n",
    "    # Add the mask to the scaled dot-product\n",
    "    if mask is not None: \n",
    "        scaled_attention_logits += (1. - mask) *(-1e9)\n",
    "\n",
    "    # Compute the Softmax\n",
    "    attention_weights = tf.nn.softmax(scaled_attention_logits, axis=-1)  # weights of shape (..., Tq, Tv)\n",
    "\n",
    "    #Multiply with V\n",
    "    output = tf.matmul(attention_weights,V)  # Attention representation of shape (..., Tq, dv)\n",
    "    \n",
    "    return output, attention_weights"
   ]
  },
  {
   "cell_type": "code",
   "execution_count": 3,
   "id": "53f527f4",
   "metadata": {
    "execution": {
     "iopub.execute_input": "2025-01-31T16:10:00.283043Z",
     "iopub.status.busy": "2025-01-31T16:09:59.946173Z",
     "iopub.status.idle": "2025-01-31T16:10:01.678128Z",
     "shell.execute_reply": "2025-01-31T16:10:01.677483Z"
    },
    "papermill": {
     "duration": 5.089618,
     "end_time": "2025-01-31T16:10:01.678284",
     "exception": false,
     "start_time": "2025-01-31T16:09:56.588666",
     "status": "completed"
    },
    "tags": []
   },
   "outputs": [
    {
     "name": "stdout",
     "output_type": "stream",
     "text": [
      "(16, 9, 128)\n"
     ]
    }
   ],
   "source": [
    "## DEBUG\n",
    "\n",
    "batch_size,Tq, Tv, dk, dv= 16,9,9,64,128 # we need Tq=Tv\n",
    "Q= tf.random.uniform((batch_size,Tq, dk))\n",
    "K= tf.random.uniform((batch_size,Tv, dk))\n",
    "V= tf.random.uniform((batch_size,Tv, dv))\n",
    "\n",
    "A,_=scaled_dot_product_attention(Q, K, V)\n",
    "print(A.shape)\n"
   ]
  },
  {
   "cell_type": "markdown",
   "id": "3ea73d1a",
   "metadata": {
    "papermill": {
     "duration": 0.020159,
     "end_time": "2025-01-31T16:10:01.719007",
     "exception": false,
     "start_time": "2025-01-31T16:10:01.698848",
     "status": "completed"
    },
    "tags": []
   },
   "source": [
    "### MultiHead Attention"
   ]
  },
  {
   "cell_type": "code",
   "execution_count": 4,
   "id": "27ac23f9",
   "metadata": {
    "execution": {
     "iopub.execute_input": "2025-01-31T16:10:01.768453Z",
     "iopub.status.busy": "2025-01-31T16:10:01.767897Z",
     "iopub.status.idle": "2025-01-31T16:10:01.770030Z",
     "shell.execute_reply": "2025-01-31T16:10:01.770437Z"
    },
    "papermill": {
     "duration": 0.031774,
     "end_time": "2025-01-31T16:10:01.770571",
     "exception": false,
     "start_time": "2025-01-31T16:10:01.738797",
     "status": "completed"
    },
    "tags": []
   },
   "outputs": [],
   "source": [
    "class Multihead_Attention(tf.keras.layers.Layer):\n",
    "    def __init__(self, H, d_model, dk, dv):\n",
    "        \n",
    "        \"\"\"\n",
    "        Arguments:\n",
    "        H -- number of heads (=8 in the paper)\n",
    "        d_models -- embedding dimension (=512 in the paper)\n",
    "        dk -- depth of Q and K (=64 in the paper)\n",
    "        dv -- depth of V (=64 in the paper)\n",
    "        \"\"\"\n",
    "    \n",
    "        super(Multihead_Attention, self).__init__()\n",
    "        \n",
    "        initializer = tf.keras.initializers.GlorotUniform()\n",
    "        self.WQ = tf.Variable(initializer(shape=(H, d_model, dk)), trainable=True)\n",
    "        self.WK = tf.Variable(initializer(shape=(H, d_model, dk)), trainable=True)\n",
    "        self.WV = tf.Variable(initializer(shape=(H, d_model, dv)), trainable=True)\n",
    "        self.WO = tf.Variable(initializer(shape=(H*dv,d_model)), trainable=True)\n",
    "\n",
    "    \n",
    "    def call(self, Q, K, V, mask=None):\n",
    "        \"\"\"\n",
    "        Calculate the attention weights.\n",
    "\n",
    "        Arguments:\n",
    "            Q -- query shape == (..., Tq, d_model)\n",
    "            K -- key shape == (..., Tv, d_model)\n",
    "            V -- value shape == (..., Tv, d_model)\n",
    "            mask: Float tensor with shape broadcastable to (..., Tq, Tv). Defaults to None.\n",
    "\n",
    "        Returns:\n",
    "            output -- Multihead attention A of shape (batch_size, Tq, d_model)\n",
    "        \"\"\"\n",
    "        #Projecting Q,K,V to Qh, Kh, Vh. The H projection are stacked on the penultiem axis\n",
    "        Qh= tf.experimental.numpy.dot(Q, self.WQ) #of shape (batch_size, Tq, H, dk)\n",
    "        Kh= tf.experimental.numpy.dot(K, self.WK) #of shape (batch_size, Tv, H, dk)\n",
    "        Vh= tf.experimental.numpy.dot(V, self.WV) #of shape (batch_size, Tv, H, dv)\n",
    "        \n",
    "        #Transposition\n",
    "        Qh=tf.transpose(Qh, [0,2,1,3]) #of shape (batch_size, H, Tq, dk)\n",
    "        Kh=tf.transpose(Kh, [0,2,1,3]) #of shape (batch_size, H, Tv, dk)\n",
    "        Vh=tf.transpose(Vh, [0,2,1,3]) #of shape (batch_size, H, Tv, dv)\n",
    "        \n",
    "        # Computing the dot-product attention\n",
    "        Ah,_=scaled_dot_product_attention(Qh, Kh, Vh, mask=mask) #of shape (batch_size, H, Tq, dv)\n",
    "        \n",
    "        #Flattening the H and dv axis and projecting back to d_model\n",
    "#        A = tf.reshape(Ah,(*Ah.shape[:-2],-1))\n",
    "        s=Ah.shape\n",
    "        A = tf.reshape(Ah,(s[0],s[2],s[1]*s[3])) #of shape (batch_size, Tq, H*dv)\n",
    "        A= tf.experimental.numpy.dot(A, self.WO) #of shape (batch_size, Tq, d_model)\n",
    "        \n",
    "        return A"
   ]
  },
  {
   "cell_type": "code",
   "execution_count": 5,
   "id": "51e81a7f",
   "metadata": {
    "execution": {
     "iopub.execute_input": "2025-01-31T16:10:01.814926Z",
     "iopub.status.busy": "2025-01-31T16:10:01.814461Z",
     "iopub.status.idle": "2025-01-31T16:10:01.886403Z",
     "shell.execute_reply": "2025-01-31T16:10:01.886741Z"
    },
    "papermill": {
     "duration": 0.096468,
     "end_time": "2025-01-31T16:10:01.886878",
     "exception": false,
     "start_time": "2025-01-31T16:10:01.790410",
     "status": "completed"
    },
    "scrolled": true,
    "tags": []
   },
   "outputs": [
    {
     "name": "stdout",
     "output_type": "stream",
     "text": [
      "(16, 9, 512)\n"
     ]
    }
   ],
   "source": [
    "## DEBUG\n",
    "\n",
    "H, d_model, dk, dv=8,512,64,32\n",
    "batch_size, Tq, Tv = 16,9,9\n",
    "\n",
    "mha_layer= Multihead_Attention(H, d_model, dk, dv)\n",
    "\n",
    "Q= tf.random.uniform((batch_size, Tq, d_model))\n",
    "K= tf.random.uniform((batch_size, Tv, d_model))\n",
    "V= tf.random.uniform((batch_size, Tv, d_model))\n",
    "\n",
    "A=mha_layer(Q,K,V)\n",
    "print(A.shape)"
   ]
  },
  {
   "cell_type": "markdown",
   "id": "f72d6b07",
   "metadata": {
    "papermill": {
     "duration": 0.020115,
     "end_time": "2025-01-31T16:10:01.928528",
     "exception": false,
     "start_time": "2025-01-31T16:10:01.908413",
     "status": "completed"
    },
    "tags": []
   },
   "source": [
    "## Pointwise FNN"
   ]
  },
  {
   "cell_type": "code",
   "execution_count": 6,
   "id": "6ac2ebe0",
   "metadata": {
    "execution": {
     "iopub.execute_input": "2025-01-31T16:10:01.974288Z",
     "iopub.status.busy": "2025-01-31T16:10:01.973746Z",
     "iopub.status.idle": "2025-01-31T16:10:01.976335Z",
     "shell.execute_reply": "2025-01-31T16:10:01.975836Z"
    },
    "papermill": {
     "duration": 0.027767,
     "end_time": "2025-01-31T16:10:01.976440",
     "exception": false,
     "start_time": "2025-01-31T16:10:01.948673",
     "status": "completed"
    },
    "tags": []
   },
   "outputs": [],
   "source": [
    "class FNNLayer(tf.keras.layers.Layer):\n",
    "    def __init__(self, d_model, dff):\n",
    "        \n",
    "        \"\"\"\n",
    "        Arguments:\n",
    "        d_model -- the dimension of the embedding (=64 in the paper)\n",
    "        dff -- the dimension of the hidden layer of the FNN (=2048 in the paper)\n",
    "        \"\"\"\n",
    "            \n",
    "        super(FNNLayer, self).__init__()\n",
    "\n",
    "        self.layer1 = Conv1D(filters=dff, kernel_size=1,activation=\"relu\")\n",
    "        self.layer2 = Conv1D(filters=d_model, kernel_size=1)\n",
    "\n",
    "\n",
    "    def call(self, x):\n",
    "        \"\"\"\n",
    "        Arguments:\n",
    "            x -- Tensor of shape (batch_size, input_seq_len, embedding_dim)\n",
    "            \n",
    "        Returns:\n",
    "            fnn_layer_out -- Tensor of shape (batch_size, input_seq_len, embedding_dim)\n",
    "        \"\"\"\n",
    "        \n",
    "        x=self.layer1(x)\n",
    "        fnn_layer_out=self.layer2(x)\n",
    "\n",
    "        \n",
    "        return fnn_layer_out"
   ]
  },
  {
   "cell_type": "code",
   "execution_count": 7,
   "id": "5dffd10e",
   "metadata": {
    "execution": {
     "iopub.execute_input": "2025-01-31T16:10:02.030458Z",
     "iopub.status.busy": "2025-01-31T16:10:02.029054Z",
     "iopub.status.idle": "2025-01-31T16:10:02.055142Z",
     "shell.execute_reply": "2025-01-31T16:10:02.055571Z"
    },
    "papermill": {
     "duration": 0.057638,
     "end_time": "2025-01-31T16:10:02.055696",
     "exception": false,
     "start_time": "2025-01-31T16:10:01.998058",
     "status": "completed"
    },
    "tags": []
   },
   "outputs": [
    {
     "name": "stdout",
     "output_type": "stream",
     "text": [
      "(16, 9, 64)\n"
     ]
    }
   ],
   "source": [
    "## DEBUG\n",
    "\n",
    "d_model, dff = 64, 2048\n",
    "fnn_layer= FNNLayer(d_model, dff)\n",
    "\n",
    "batch_size, Tv= 16, 9\n",
    "x=tf.random.uniform((batch_size, Tv, d_model))\n",
    "\n",
    "print(fnn_layer(x).shape)\n",
    "\n"
   ]
  },
  {
   "cell_type": "markdown",
   "id": "540337fb",
   "metadata": {
    "papermill": {
     "duration": 0.020309,
     "end_time": "2025-01-31T16:10:02.096784",
     "exception": false,
     "start_time": "2025-01-31T16:10:02.076475",
     "status": "completed"
    },
    "tags": []
   },
   "source": [
    "## Positional encoding"
   ]
  },
  {
   "cell_type": "code",
   "execution_count": 8,
   "id": "e6b04080",
   "metadata": {
    "execution": {
     "iopub.execute_input": "2025-01-31T16:10:02.144472Z",
     "iopub.status.busy": "2025-01-31T16:10:02.143754Z",
     "iopub.status.idle": "2025-01-31T16:10:02.145739Z",
     "shell.execute_reply": "2025-01-31T16:10:02.146158Z"
    },
    "papermill": {
     "duration": 0.028686,
     "end_time": "2025-01-31T16:10:02.146313",
     "exception": false,
     "start_time": "2025-01-31T16:10:02.117627",
     "status": "completed"
    },
    "tags": []
   },
   "outputs": [],
   "source": [
    "def positional_encoding(positions, d):\n",
    "    \"\"\"\n",
    "    Precomputes a matrix with all the positional encodings \n",
    "    \n",
    "    Arguments:\n",
    "        positions (int) -- Maximum number of positions to be encoded \n",
    "        d (int) -- Encoding size d_model\n",
    "    \n",
    "        arguments de get_angles:\n",
    "            pos -- Column vector containing the positions [[0], [1], ...,[N-1]]\n",
    "            k --   Row vector containing the dimension span [[0, 1, 2, ..., d-1]]\n",
    "            d(integer) -- Encoding size\n",
    "            \n",
    "    Returns:\n",
    "        pos_encoding -- (1, position, d_model) A matrix with the positional encodings\n",
    "    \"\"\"\n",
    "    # initialize a matrix angle_rads of all the angles\n",
    "    pos=np.arange(positions)[:, np.newaxis] #Column vector containing the position span [0,1,..., positions]\n",
    "    k= np.arange(d)[np.newaxis, :]  #Row vector containing the dimension span [[0, 1, ..., d-1]]\n",
    "    i = k//2\n",
    "    angle_rads = pos/(10000**(2*i/d)) #Matrix of angles indexed by (pos,i)\n",
    "    \n",
    "    # apply sin to even indices in the array; 2i\n",
    "    angle_rads[:, 0::2] = np.sin(angle_rads[:, 0::2])\n",
    "  \n",
    "    # apply cos to odd indices in the array; 2i+1\n",
    "    angle_rads[:, 1::2] = np.cos(angle_rads[:, 1::2])\n",
    "\n",
    "    #adds batch axis\n",
    "    pos_encoding = angle_rads[np.newaxis, ...] \n",
    "    \n",
    "    return tf.cast(pos_encoding, dtype=tf.float32)"
   ]
  },
  {
   "cell_type": "markdown",
   "id": "a792d29d",
   "metadata": {
    "papermill": {
     "duration": 0.020861,
     "end_time": "2025-01-31T16:10:02.189305",
     "exception": false,
     "start_time": "2025-01-31T16:10:02.168444",
     "status": "completed"
    },
    "tags": []
   },
   "source": [
    "Let us plot the obtained results"
   ]
  },
  {
   "cell_type": "code",
   "execution_count": 9,
   "id": "0a9aa552",
   "metadata": {
    "execution": {
     "iopub.execute_input": "2025-01-31T16:10:02.236835Z",
     "iopub.status.busy": "2025-01-31T16:10:02.236341Z",
     "iopub.status.idle": "2025-01-31T16:10:02.520511Z",
     "shell.execute_reply": "2025-01-31T16:10:02.520890Z"
    },
    "papermill": {
     "duration": 0.31034,
     "end_time": "2025-01-31T16:10:02.521031",
     "exception": false,
     "start_time": "2025-01-31T16:10:02.210691",
     "status": "completed"
    },
    "tags": []
   },
   "outputs": [
    {
     "name": "stdout",
     "output_type": "stream",
     "text": [
      "(1, 50, 512)\n"
     ]
    },
    {
     "data": {
      "image/png": "[encoded data removed]",
      "text/plain": [
       "<Figure size 432x288 with 2 Axes>"
      ]
     },
     "metadata": {
      "needs_background": "light"
     },
     "output_type": "display_data"
    }
   ],
   "source": [
    "positions, d=50,512\n",
    "pos_encoding = positional_encoding(positions, d)\n",
    "\n",
    "print (pos_encoding.shape)\n",
    "\n",
    "plt.pcolormesh(pos_encoding[0], cmap='RdBu')\n",
    "plt.xlabel('d')\n",
    "plt.xlim((0, 512))\n",
    "plt.ylabel('Position')\n",
    "plt.colorbar()\n",
    "plt.show()"
   ]
  },
  {
   "cell_type": "markdown",
   "id": "d4940678",
   "metadata": {
    "papermill": {
     "duration": 0.023719,
     "end_time": "2025-01-31T16:10:02.567519",
     "exception": false,
     "start_time": "2025-01-31T16:10:02.543800",
     "status": "completed"
    },
    "tags": []
   },
   "source": [
    "## Masking"
   ]
  },
  {
   "cell_type": "markdown",
   "id": "61be2eec",
   "metadata": {
    "papermill": {
     "duration": 0.021895,
     "end_time": "2025-01-31T16:10:02.611780",
     "exception": false,
     "start_time": "2025-01-31T16:10:02.589885",
     "status": "completed"
    },
    "tags": []
   },
   "source": [
    "There are two types of masks that are useful when building your Transformer network: the padding mask and the look-ahead mask. Both help the softmax computation give the appropriate weights to the words in the input sentence."
   ]
  },
  {
   "cell_type": "markdown",
   "id": "73f5b765",
   "metadata": {
    "papermill": {
     "duration": 0.022154,
     "end_time": "2025-01-31T16:10:02.656163",
     "exception": false,
     "start_time": "2025-01-31T16:10:02.634009",
     "status": "completed"
    },
    "tags": []
   },
   "source": [
    "### Padding mask"
   ]
  },
  {
   "cell_type": "markdown",
   "id": "1f914550",
   "metadata": {
    "papermill": {
     "duration": 0.022095,
     "end_time": "2025-01-31T16:10:02.701190",
     "exception": false,
     "start_time": "2025-01-31T16:10:02.679095",
     "status": "completed"
    },
    "tags": []
   },
   "source": [
    "When passing sequences into a transformer model, it is important that they are of uniform length. You can achieve this by padding the sequence with zeros, and truncating sentences that exceed the maximum length of your model.\n",
    "\n",
    "In the case where the sequence is padded with zeros, we need to create a mask to let the algorithm know that it should discard the zero values."
   ]
  },
  {
   "cell_type": "code",
   "execution_count": 10,
   "id": "ba2bfbc0",
   "metadata": {
    "execution": {
     "iopub.execute_input": "2025-01-31T16:10:02.750333Z",
     "iopub.status.busy": "2025-01-31T16:10:02.749803Z",
     "iopub.status.idle": "2025-01-31T16:10:02.752139Z",
     "shell.execute_reply": "2025-01-31T16:10:02.752566Z"
    },
    "papermill": {
     "duration": 0.029478,
     "end_time": "2025-01-31T16:10:02.752692",
     "exception": false,
     "start_time": "2025-01-31T16:10:02.723214",
     "status": "completed"
    },
    "tags": []
   },
   "outputs": [],
   "source": [
    "def create_padding_mask(decoder_token_ids):\n",
    "    \"\"\"\n",
    "    Creates a matrix mask for the padding cells\n",
    "    \n",
    "    Arguments:\n",
    "        decoder_token_ids -- (n, m) matrix. n=batch_size, m=fixed size of input sentences\n",
    "    \n",
    "    Returns:\n",
    "        mask -- (n, 1, m) binary tensor\n",
    "    \"\"\"    \n",
    "    seq = 1 - tf.cast(tf.math.equal(decoder_token_ids, 0), tf.float32)\n",
    "  \n",
    "    # add extra dimensions to add the padding to the attention logits.\n",
    "    return seq[:, tf.newaxis, :] "
   ]
  },
  {
   "cell_type": "code",
   "execution_count": 11,
   "id": "6421c4b0",
   "metadata": {
    "execution": {
     "iopub.execute_input": "2025-01-31T16:10:02.801888Z",
     "iopub.status.busy": "2025-01-31T16:10:02.801381Z",
     "iopub.status.idle": "2025-01-31T16:10:02.809499Z",
     "shell.execute_reply": "2025-01-31T16:10:02.809079Z"
    },
    "papermill": {
     "duration": 0.034483,
     "end_time": "2025-01-31T16:10:02.809609",
     "exception": false,
     "start_time": "2025-01-31T16:10:02.775126",
     "status": "completed"
    },
    "tags": []
   },
   "outputs": [
    {
     "name": "stdout",
     "output_type": "stream",
     "text": [
      "tf.Tensor(\n",
      "[[[1. 1. 0. 0. 1.]]\n",
      "\n",
      " [[1. 1. 1. 0. 0.]]\n",
      "\n",
      " [[0. 0. 0. 1. 1.]]], shape=(3, 1, 5), dtype=float32)\n"
     ]
    }
   ],
   "source": [
    "x = tf.constant([[7., 6., 0., 0., 1.], [1., 2., 3., 0., 0.], [0., 0., 0., 4., 5.]])\n",
    "print(create_padding_mask(x))"
   ]
  },
  {
   "cell_type": "markdown",
   "id": "8b9381d2",
   "metadata": {
    "papermill": {
     "duration": 0.022063,
     "end_time": "2025-01-31T16:10:02.853893",
     "exception": false,
     "start_time": "2025-01-31T16:10:02.831830",
     "status": "completed"
    },
    "tags": []
   },
   "source": [
    "### Look-ahead Mask"
   ]
  },
  {
   "cell_type": "markdown",
   "id": "592592e4",
   "metadata": {
    "papermill": {
     "duration": 0.022482,
     "end_time": "2025-01-31T16:10:02.898837",
     "exception": false,
     "start_time": "2025-01-31T16:10:02.876355",
     "status": "completed"
    },
    "tags": []
   },
   "source": [
    "In training, we have access to the complete correct output of the training example. The look-ahead mask helps the model pretend that it correctly predicted a part of the output and see if, without looking ahead, it can correctly predict the next output."
   ]
  },
  {
   "cell_type": "code",
   "execution_count": 12,
   "id": "231421d2",
   "metadata": {
    "execution": {
     "iopub.execute_input": "2025-01-31T16:10:02.951145Z",
     "iopub.status.busy": "2025-01-31T16:10:02.950690Z",
     "iopub.status.idle": "2025-01-31T16:10:02.952797Z",
     "shell.execute_reply": "2025-01-31T16:10:02.953157Z"
    },
    "papermill": {
     "duration": 0.029951,
     "end_time": "2025-01-31T16:10:02.953314",
     "exception": false,
     "start_time": "2025-01-31T16:10:02.923363",
     "status": "completed"
    },
    "tags": []
   },
   "outputs": [],
   "source": [
    "def create_look_ahead_mask(sequence_length):\n",
    "    \"\"\"\n",
    "    Returns an upper triangular matrix filled with ones\n",
    "    \n",
    "    Arguments:\n",
    "        sequence_length -- matrix size\n",
    "    \n",
    "    Returns:\n",
    "        mask -- (size, size) tensor\n",
    "    \"\"\"\n",
    "    mask = tf.linalg.band_part(tf.ones((1, sequence_length, sequence_length)), -1, 0)\n",
    "    return mask "
   ]
  },
  {
   "cell_type": "code",
   "execution_count": 13,
   "id": "509b8094",
   "metadata": {
    "execution": {
     "iopub.execute_input": "2025-01-31T16:10:03.003565Z",
     "iopub.status.busy": "2025-01-31T16:10:03.002804Z",
     "iopub.status.idle": "2025-01-31T16:10:03.014547Z",
     "shell.execute_reply": "2025-01-31T16:10:03.013986Z"
    },
    "papermill": {
     "duration": 0.038788,
     "end_time": "2025-01-31T16:10:03.014653",
     "exception": false,
     "start_time": "2025-01-31T16:10:02.975865",
     "status": "completed"
    },
    "scrolled": true,
    "tags": []
   },
   "outputs": [
    {
     "data": {
      "text/plain": [
       "<tf.Tensor: shape=(1, 3, 3), dtype=float32, numpy=\n",
       "array([[[1., 0., 0.],\n",
       "        [1., 1., 0.],\n",
       "        [1., 1., 1.]]], dtype=float32)>"
      ]
     },
     "execution_count": 13,
     "metadata": {},
     "output_type": "execute_result"
    }
   ],
   "source": [
    "x = tf.random.uniform((1, 3))\n",
    "create_look_ahead_mask(x.shape[1])"
   ]
  },
  {
   "cell_type": "markdown",
   "id": "53e72166",
   "metadata": {
    "papermill": {
     "duration": 0.02264,
     "end_time": "2025-01-31T16:10:03.061553",
     "exception": false,
     "start_time": "2025-01-31T16:10:03.038913",
     "status": "completed"
    },
    "tags": []
   },
   "source": [
    "# Encoder"
   ]
  },
  {
   "cell_type": "markdown",
   "id": "dbc934b8",
   "metadata": {
    "papermill": {
     "duration": 0.02268,
     "end_time": "2025-01-31T16:10:03.106905",
     "exception": false,
     "start_time": "2025-01-31T16:10:03.084225",
     "status": "completed"
    },
    "tags": []
   },
   "source": [
    "## Encoder layer"
   ]
  },
  {
   "cell_type": "markdown",
   "id": "0099139a",
   "metadata": {
    "papermill": {
     "duration": 0.022663,
     "end_time": "2025-01-31T16:10:03.152651",
     "exception": false,
     "start_time": "2025-01-31T16:10:03.129988",
     "status": "completed"
    },
    "tags": []
   },
   "source": [
    "We recall that the encoder layer is composed by a multi-head self-attention mechanism, followed by a positionwise fully connected feed-forward network. This archirecture includes a residual connection around each of the two sub-layers, followed by layer normalization."
   ]
  },
  {
   "cell_type": "code",
   "execution_count": 14,
   "id": "0ebc5fe6",
   "metadata": {
    "execution": {
     "iopub.execute_input": "2025-01-31T16:10:03.206364Z",
     "iopub.status.busy": "2025-01-31T16:10:03.205842Z",
     "iopub.status.idle": "2025-01-31T16:10:03.208337Z",
     "shell.execute_reply": "2025-01-31T16:10:03.207836Z"
    },
    "papermill": {
     "duration": 0.033082,
     "end_time": "2025-01-31T16:10:03.208451",
     "exception": false,
     "start_time": "2025-01-31T16:10:03.175369",
     "status": "completed"
    },
    "tags": []
   },
   "outputs": [],
   "source": [
    "class EncoderLayer(tf.keras.layers.Layer):\n",
    "\n",
    "    def __init__(self, H, d_model, dk, dv, dff, dropout_rate=0.1, layernorm_eps=1e-6):\n",
    "        \n",
    "        \"\"\"\n",
    "        Arguments:\n",
    "\n",
    "        H -- number of heads (=8 in the paper)\n",
    "        d_models -- embedding dimension (=512 in the paper)\n",
    "        dk -- depth of Q and K (=64 in the paper)\n",
    "        dv -- depth of V (=64 in the paper)\n",
    "        dff -- the dimension of the hidden layer of the FNN (=2048 in the paper)\n",
    "        dropout_rate -- Dropout parameter used (during training) before all the residual connections\n",
    "        layernorm_eps -- eta regularizing parameter for the Normalization layer \n",
    "        \"\"\"\n",
    "        \n",
    "        super(EncoderLayer, self).__init__()\n",
    "        \n",
    "        self.mha = Multihead_Attention(H, d_model, dk, dv)\n",
    "        self.ffn = FNNLayer(d_model, dff)\n",
    "        self.layernorm1 = LayerNormalization(epsilon=layernorm_eps)\n",
    "        self.layernorm2 = LayerNormalization(epsilon=layernorm_eps)\n",
    "        self.dropout_mha = Dropout(dropout_rate)\n",
    "        self.dropout_ffn = Dropout(dropout_rate)\n",
    "    \n",
    "    def call(self, x, training=False, mask=None):\n",
    "        \"\"\"\n",
    "        Forward pass for the Encoder Layer\n",
    "        \n",
    "        Arguments:\n",
    "            x -- Tensor of shape (batch_size, Tq, d_model)\n",
    "            training -- Boolean, set to true to activate\n",
    "                        the training mode for dropout layers. Defaults to False\n",
    "            mask -- Boolean mask to ensure that the padding is not \n",
    "                    treated as part of the input. Defaults to None\n",
    "        Returns:\n",
    "            encoder_layer_out -- Tensor of shape (batch_size, Tq, d_model)\n",
    "        \"\"\"\n",
    "        A = self.mha(x,x,x,mask=mask) # Self attention (batch_size, Tq, d_model)\n",
    "        A = self.dropout_mha(A, training=training) #Apply Dropout during training\n",
    "        \n",
    "        \n",
    "        #  Residual connection + Layer normalization\n",
    "        out1 = self.layernorm1(x+A)  # (batch_size, Tq, d_model)\n",
    "\n",
    "        # Pointwise ffn\n",
    "        ffn_output = self.ffn(out1) # (batch_size, Tq, d_model)\n",
    "        ffn_output = self.dropout_ffn(ffn_output, training=training) # Apply Dropout during training\n",
    "        \n",
    "        # Residual connection + Layer normalization\n",
    "        encoder_layer_out = self.layernorm2(ffn_output+out1)  # (batch_size, input_seq_len, fully_connected_dim)\n",
    "        \n",
    "        return encoder_layer_out"
   ]
  },
  {
   "cell_type": "code",
   "execution_count": 15,
   "id": "c1c6a9c4",
   "metadata": {
    "execution": {
     "iopub.execute_input": "2025-01-31T16:10:03.259399Z",
     "iopub.status.busy": "2025-01-31T16:10:03.258641Z",
     "iopub.status.idle": "2025-01-31T16:10:03.306135Z",
     "shell.execute_reply": "2025-01-31T16:10:03.305669Z"
    },
    "papermill": {
     "duration": 0.074966,
     "end_time": "2025-01-31T16:10:03.306264",
     "exception": false,
     "start_time": "2025-01-31T16:10:03.231298",
     "status": "completed"
    },
    "tags": []
   },
   "outputs": [
    {
     "name": "stdout",
     "output_type": "stream",
     "text": [
      "(43, 27, 512)\n"
     ]
    }
   ],
   "source": [
    "## DEBUG\n",
    "\n",
    "H, d_model, dk, dv, dff = 8, 512, 64, 32, 2048\n",
    "layer = EncoderLayer(H, d_model, dk, dv, dff)\n",
    "\n",
    "batch_size, Tq= 43, 27\n",
    "x = tf.random.uniform((batch_size, Tq, d_model))\n",
    "\n",
    "output = layer(x,training=True)\n",
    "print(output.shape)"
   ]
  },
  {
   "cell_type": "markdown",
   "id": "5a84681c",
   "metadata": {
    "papermill": {
     "duration": 0.023022,
     "end_time": "2025-01-31T16:10:03.352828",
     "exception": false,
     "start_time": "2025-01-31T16:10:03.329806",
     "status": "completed"
    },
    "tags": []
   },
   "source": [
    "## Full Encoder"
   ]
  },
  {
   "cell_type": "code",
   "execution_count": 16,
   "id": "22265fbf",
   "metadata": {
    "execution": {
     "iopub.execute_input": "2025-01-31T16:10:03.406670Z",
     "iopub.status.busy": "2025-01-31T16:10:03.406140Z",
     "iopub.status.idle": "2025-01-31T16:10:03.408608Z",
     "shell.execute_reply": "2025-01-31T16:10:03.408137Z"
    },
    "papermill": {
     "duration": 0.032124,
     "end_time": "2025-01-31T16:10:03.408705",
     "exception": false,
     "start_time": "2025-01-31T16:10:03.376581",
     "status": "completed"
    },
    "tags": []
   },
   "outputs": [],
   "source": [
    "class Encoder(tf.keras.layers.Layer):\n",
    "\n",
    "    def __init__(self, N, H, d_model, dk, dv, dff, dropout_rate=0.1, layernorm_eps=1e-6):\n",
    "        \"\"\"\n",
    "        Arguments:\n",
    "        \n",
    "        N -- number of stackeds Encoder layers (=6 in the paper)\n",
    "        H -- number of heads (=8 in the paper)\n",
    "        d_models -- embedding dimension (=512 in the paper)\n",
    "        dk -- depth of Q and K (=64 in the paper)\n",
    "        dv -- depth of V (=64 in the paper)\n",
    "        dff -- the dimension of the hidden layer of the FNN (=2048 in the paper)\n",
    "        dropout_rate -- Dropout parameter used (during training) before all the residual connections\n",
    "        layernorm_eps -- eta regularizing parameter for the Normalization layer \n",
    "        \"\"\"\n",
    "        \n",
    "        super(Encoder, self).__init__()\n",
    "        \n",
    "        self.layers=[EncoderLayer(H, d_model, dk, dv, dff, \n",
    "                                  dropout_rate=dropout_rate, \n",
    "                                  layernorm_eps=layernorm_eps)\n",
    "                                  for i in range(N)]\n",
    "    \n",
    "    def call(self, x, training=False, mask=None):\n",
    "        \"\"\"\n",
    "        Forward pass for the Encoder\n",
    "        \n",
    "        Arguments:\n",
    "            x -- Tensor of shape (batch_size, Tq, d_model)\n",
    "            training -- Boolean, set to true to activate\n",
    "                        the training mode for dropout layers. Defaults to False\n",
    "            mask -- Boolean mask to ensure that the padding is not \n",
    "                    treated as part of the input. Defaults to None\n",
    "        Returns:\n",
    "            encoder_out -- Tensor of shape (batch_size, Tq, d_model)\n",
    "        \"\"\"\n",
    "                                  \n",
    "        for layer in self.layers:\n",
    "            x = layer(x, training=training, mask=mask)\n",
    "                                  \n",
    "        return x\n",
    "                                  "
   ]
  },
  {
   "cell_type": "code",
   "execution_count": 17,
   "id": "58a9a210",
   "metadata": {
    "execution": {
     "iopub.execute_input": "2025-01-31T16:10:03.461081Z",
     "iopub.status.busy": "2025-01-31T16:10:03.460636Z",
     "iopub.status.idle": "2025-01-31T16:10:03.587464Z",
     "shell.execute_reply": "2025-01-31T16:10:03.586915Z"
    },
    "papermill": {
     "duration": 0.15558,
     "end_time": "2025-01-31T16:10:03.587592",
     "exception": false,
     "start_time": "2025-01-31T16:10:03.432012",
     "status": "completed"
    },
    "tags": []
   },
   "outputs": [
    {
     "name": "stdout",
     "output_type": "stream",
     "text": [
      "(43, 27, 512)\n"
     ]
    }
   ],
   "source": [
    "## DEBUG\n",
    "\n",
    "N,H, d_model, dk, dv, dff = 6,8, 512, 64, 32, 2048\n",
    "encoder = Encoder(N,H, d_model, dk, dv, dff)\n",
    "\n",
    "batch_size, Tq= 43, 27\n",
    "x = tf.random.uniform((batch_size, Tq, d_model))\n",
    "\n",
    "output = encoder(x,training=True)\n",
    "print(output.shape)"
   ]
  },
  {
   "cell_type": "markdown",
   "id": "3c31aa96",
   "metadata": {
    "papermill": {
     "duration": 0.023566,
     "end_time": "2025-01-31T16:10:03.635865",
     "exception": false,
     "start_time": "2025-01-31T16:10:03.612299",
     "status": "completed"
    },
    "tags": []
   },
   "source": [
    "# Decoder"
   ]
  },
  {
   "cell_type": "markdown",
   "id": "571c0c12",
   "metadata": {
    "papermill": {
     "duration": 0.023855,
     "end_time": "2025-01-31T16:10:03.683525",
     "exception": false,
     "start_time": "2025-01-31T16:10:03.659670",
     "status": "completed"
    },
    "tags": []
   },
   "source": [
    "## Decoder layer"
   ]
  },
  {
   "cell_type": "code",
   "execution_count": 18,
   "id": "27efb0c6",
   "metadata": {
    "execution": {
     "iopub.execute_input": "2025-01-31T16:10:03.739508Z",
     "iopub.status.busy": "2025-01-31T16:10:03.732717Z",
     "iopub.status.idle": "2025-01-31T16:10:03.741879Z",
     "shell.execute_reply": "2025-01-31T16:10:03.741417Z"
    },
    "papermill": {
     "duration": 0.034839,
     "end_time": "2025-01-31T16:10:03.741972",
     "exception": false,
     "start_time": "2025-01-31T16:10:03.707133",
     "status": "completed"
    },
    "tags": []
   },
   "outputs": [],
   "source": [
    "class DecoderLayer(tf.keras.layers.Layer):\n",
    "\n",
    "    def __init__(self, H, d_model, dk, dv, dff, dropout_rate=0.1, layernorm_eps=1e-6):\n",
    "        \n",
    "        \"\"\"\n",
    "        Arguments:\n",
    "\n",
    "        H -- number of heads (=8 in the paper)\n",
    "        d_models -- embedding dimension (=512 in the paper)\n",
    "        dk -- depth of Q and K (=64 in the paper)\n",
    "        dv -- depth of V (=64 in the paper)\n",
    "        dff -- the dimension of the hidden layer of the FNN (=2048 in the paper)\n",
    "        dropout_rate -- Dropout parameter used (during training) before all the residual connections\n",
    "        layernorm_eps -- eta regularizing parameter for the Normalization layer \n",
    "        \"\"\"\n",
    "        \n",
    "        super(DecoderLayer, self).__init__()\n",
    "        \n",
    "        self.mha1 = Multihead_Attention(H, d_model, dk, dv)\n",
    "        self.mha2 = Multihead_Attention(H, d_model, dk, dv)\n",
    "        self.ffn = FNNLayer(d_model, dff)\n",
    "        self.layernorm1 = LayerNormalization(epsilon=layernorm_eps)\n",
    "        self.layernorm2 = LayerNormalization(epsilon=layernorm_eps)\n",
    "        self.layernorm3 = LayerNormalization(epsilon=layernorm_eps)\n",
    "        self.dropout_mha1 = Dropout(dropout_rate)\n",
    "        self.dropout_mha2 = Dropout(dropout_rate)                                     \n",
    "        self.dropout_ffn = Dropout(dropout_rate)\n",
    "    \n",
    "    def call(self, x, encoder_output, training=False, look_ahead_mask=None, padding_mask=None):\n",
    "        \"\"\"\n",
    "        Forward pass for the Decoder Layer\n",
    "        \n",
    "        Arguments:\n",
    "            x -- Tensor of shape (batch_size, Tv, d_model)\n",
    "            encoder_output --  Tensor of shape (batch_size, Tv, d_model)\n",
    "            training -- Boolean, set to true to activate\n",
    "                        the training mode for dropout layers. Defaults to False\n",
    "            look_ahead_mask -- Boolean mask for the target_input. Defaults to None\n",
    "            padding_mask -- Boolean mask for the second multihead attention layer. Defaults to None\n",
    "        Returns:\n",
    "            decoder_layer_out -- Tensor of shape (batch_size, Tq, d_model)\n",
    "        \"\"\"\n",
    "        # 1st Masked MultiHead attention                                     \n",
    "        A1 = self.mha1(x,x,x,mask=look_ahead_mask) # Self attention (batch_size, Tq, d_model)\n",
    "        A1 = self.dropout_mha1(A1, training=training) #Apply Dropout during training\n",
    "        \n",
    "        #  Residual connection + Layer normalization\n",
    "        out1 = self.layernorm1(x+A1)  # (batch_size, Tq, d_model)\n",
    "\n",
    "        # 2nd Masked MultiHead attention                                     \n",
    "        A2 = self.mha2(x,encoder_output,encoder_output,mask=padding_mask) # Self attention (batch_size, Tq, d_model)\n",
    "        A2 = self.dropout_mha2(A2, training=training) #Apply Dropout during training\n",
    "        \n",
    "        \n",
    "        #  Residual connection + Layer normalization\n",
    "        out2 = self.layernorm2(out1+A2)  # (batch_size, Tq, d_model)\n",
    "                                             \n",
    "        # Pointwise ffn\n",
    "        ffn_output = self.ffn(out2) # (batch_size, Tq, d_model)\n",
    "        ffn_output = self.dropout_ffn(ffn_output, training=training) # Apply Dropout during training\n",
    "        \n",
    "        # Residual connection + Layer normalization\n",
    "        decoder_layer_out = self.layernorm3(ffn_output+out2)  # (batch_size, input_seq_len, fully_connected_dim)\n",
    "        \n",
    "        return decoder_layer_out"
   ]
  },
  {
   "cell_type": "code",
   "execution_count": 19,
   "id": "93284587",
   "metadata": {
    "execution": {
     "iopub.execute_input": "2025-01-31T16:10:03.795082Z",
     "iopub.status.busy": "2025-01-31T16:10:03.794357Z",
     "iopub.status.idle": "2025-01-31T16:10:03.830191Z",
     "shell.execute_reply": "2025-01-31T16:10:03.829786Z"
    },
    "papermill": {
     "duration": 0.064468,
     "end_time": "2025-01-31T16:10:03.830311",
     "exception": false,
     "start_time": "2025-01-31T16:10:03.765843",
     "status": "completed"
    },
    "tags": []
   },
   "outputs": [],
   "source": [
    "## DEBUG\n",
    "\n",
    "H, d_model, dk, dv, dff = 8, 512, 64, 32, 2048\n",
    "layer = DecoderLayer(H, d_model, dk, dv, dff)\n",
    "\n",
    "batch_size, Tq, Tv= 43, 57, 57\n",
    "x = tf.random.uniform((batch_size, Tv, d_model))\n",
    "encoder_output = tf.random.uniform((batch_size, Tq, d_model))\n",
    "\n",
    "output = layer(x,encoder_output,training=True)\n",
    "#print(output.shape)"
   ]
  },
  {
   "cell_type": "markdown",
   "id": "69841f56",
   "metadata": {
    "papermill": {
     "duration": 0.023962,
     "end_time": "2025-01-31T16:10:03.878296",
     "exception": false,
     "start_time": "2025-01-31T16:10:03.854334",
     "status": "completed"
    },
    "tags": []
   },
   "source": [
    "## Full decoder"
   ]
  },
  {
   "cell_type": "code",
   "execution_count": 20,
   "id": "79b36aa7",
   "metadata": {
    "execution": {
     "iopub.execute_input": "2025-01-31T16:10:03.933608Z",
     "iopub.status.busy": "2025-01-31T16:10:03.933066Z",
     "iopub.status.idle": "2025-01-31T16:10:03.935278Z",
     "shell.execute_reply": "2025-01-31T16:10:03.935629Z"
    },
    "papermill": {
     "duration": 0.033343,
     "end_time": "2025-01-31T16:10:03.935745",
     "exception": false,
     "start_time": "2025-01-31T16:10:03.902402",
     "status": "completed"
    },
    "tags": []
   },
   "outputs": [],
   "source": [
    "class Decoder(tf.keras.layers.Layer):\n",
    "\n",
    "    def __init__(self, N, H, d_model, dk, dv, dff, dropout_rate=0.1, layernorm_eps=1e-6):\n",
    "        \n",
    "        \"\"\"\n",
    "        Arguments:\n",
    "\n",
    "        N -- number of stackeds Decoder layers (=6 in the paper)\n",
    "        H -- number of heads (=8 in the paper)\n",
    "        d_models -- embedding dimension (=512 in the paper)\n",
    "        dk -- depth of Q and K (=64 in the paper)\n",
    "        dv -- depth of V (=64 in the paper)\n",
    "        dff -- the dimension of the hidden layer of the FNN (=2048 in the paper)\n",
    "        dropout_rate -- Dropout parameter used (during training) before all the residual connections\n",
    "        layernorm_eps -- eta regularizing parameter for the Normalization layer \n",
    "        \"\"\"\n",
    "        \n",
    "        super(Decoder, self).__init__()\n",
    "        \n",
    "        self.layers=[DecoderLayer(H, d_model, dk, dv, dff, \n",
    "                                  dropout_rate=dropout_rate, \n",
    "                                  layernorm_eps=layernorm_eps)\n",
    "                                  for i in range(N)]\n",
    "    \n",
    "    def call(self, x, encoder_output, training=False, look_ahead_mask=None, padding_mask=None):\n",
    "        \"\"\"\n",
    "        Forward pass for the Decoder Layer\n",
    "        \n",
    "        Arguments:\n",
    "            x -- Tensor of shape (batch_size, Tv, d_model)\n",
    "            encoder_output --  Tensor of shape (batch_size, Tv, d_model)\n",
    "            training -- Boolean, set to true to activate\n",
    "                        the training mode for dropout layers. Defaults to False\n",
    "            look_ahead_mask -- Boolean mask for the target_input. Defaults to None\n",
    "            padding_mask -- Boolean mask for the second multihead attention layer. Defaults to None\n",
    "        Returns:\n",
    "            decoder_out -- Tensor of shape (batch_size, Tq, d_model)\n",
    "        \"\"\"\n",
    "        \n",
    "        for layer in self.layers:\n",
    "            x = layer(x,encoder_output, look_ahead_mask=look_ahead_mask, padding_mask=padding_mask)\n",
    "                                  \n",
    "        return x\n"
   ]
  },
  {
   "cell_type": "code",
   "execution_count": 21,
   "id": "520c4b6b",
   "metadata": {
    "execution": {
     "iopub.execute_input": "2025-01-31T16:10:03.989351Z",
     "iopub.status.busy": "2025-01-31T16:10:03.988878Z",
     "iopub.status.idle": "2025-01-31T16:10:04.179898Z",
     "shell.execute_reply": "2025-01-31T16:10:04.179516Z"
    },
    "papermill": {
     "duration": 0.220212,
     "end_time": "2025-01-31T16:10:04.179996",
     "exception": false,
     "start_time": "2025-01-31T16:10:03.959784",
     "status": "completed"
    },
    "tags": []
   },
   "outputs": [
    {
     "name": "stdout",
     "output_type": "stream",
     "text": [
      "(43, 57, 512)\n"
     ]
    }
   ],
   "source": [
    "## DEBUG\n",
    "\n",
    "N,H, d_model, dk, dv, dff = 6,8, 512, 64, 32, 2048\n",
    "decoder = Decoder(N,H, d_model, dk, dv, dff)\n",
    "\n",
    "batch_size, Tq, Tv= 43, 57, 57\n",
    "x = tf.random.uniform((batch_size, Tv, d_model))\n",
    "encoder_output = tf.random.uniform((batch_size, Tq, d_model))\n",
    "\n",
    "output = decoder(x,encoder_output,training=True)\n",
    "print(output.shape)"
   ]
  },
  {
   "cell_type": "markdown",
   "id": "96af8ca4",
   "metadata": {
    "papermill": {
     "duration": 0.02412,
     "end_time": "2025-01-31T16:10:04.228191",
     "exception": false,
     "start_time": "2025-01-31T16:10:04.204071",
     "status": "completed"
    },
    "tags": []
   },
   "source": [
    "# Transformer"
   ]
  },
  {
   "cell_type": "markdown",
   "id": "290b1f55",
   "metadata": {
    "papermill": {
     "duration": 0.023821,
     "end_time": "2025-01-31T16:10:04.276535",
     "exception": false,
     "start_time": "2025-01-31T16:10:04.252714",
     "status": "completed"
    },
    "tags": []
   },
   "source": [
    "## Complete architecture"
   ]
  },
  {
   "cell_type": "code",
   "execution_count": 22,
   "id": "61337d77",
   "metadata": {
    "execution": {
     "iopub.execute_input": "2025-01-31T16:10:04.333394Z",
     "iopub.status.busy": "2025-01-31T16:10:04.326917Z",
     "iopub.status.idle": "2025-01-31T16:10:04.335411Z",
     "shell.execute_reply": "2025-01-31T16:10:04.335745Z"
    },
    "papermill": {
     "duration": 0.034976,
     "end_time": "2025-01-31T16:10:04.335861",
     "exception": false,
     "start_time": "2025-01-31T16:10:04.300885",
     "status": "completed"
    },
    "tags": []
   },
   "outputs": [],
   "source": [
    "class Transformer(tf.keras.Model):\n",
    "    \n",
    "    def __init__(self, N, H, d_model, dk, dv, dff, \n",
    "                 vocab_size, max_positional_encoding, \n",
    "                 dropout_rate=0.1, layernorm_eps=1e-6):\n",
    "\n",
    "        super(Transformer, self).__init__()\n",
    "        \n",
    "        initializer = tf.keras.initializers.GlorotUniform()\n",
    "        self.embedding = tf.Variable(initializer(shape=(vocab_size, d_model)), trainable=True)\n",
    "        self.PE = positional_encoding(max_positional_encoding, d_model)\n",
    "        \n",
    "        self.dropout_encoding_input = Dropout(dropout_rate)\n",
    "        self.dropout_decoding_input = Dropout(dropout_rate)\n",
    "        \n",
    "        self.encoder = Encoder(N, H, d_model, dk, dv, dff, dropout_rate=dropout_rate, layernorm_eps=layernorm_eps)\n",
    "        self.decoder = Decoder(N, H, d_model, dk, dv, dff, dropout_rate=dropout_rate, layernorm_eps=layernorm_eps)\n",
    "\n",
    "        \n",
    "\n",
    "    def call(self, x, y, training=False, enc_padding_mask=None, look_ahead_mask=None, dec_padding_mask=None):\n",
    "        \n",
    "        x = tf.matmul(x,self.embedding)\n",
    "        x = x + self.PE\n",
    "        x =  self.dropout_encoding_input(x,training=training)\n",
    "        \n",
    "        encoder_output = self.encoder(x,training=training, mask=enc_padding_mask)\n",
    "        \n",
    "        y = tf.matmul(y,self.embedding)\n",
    "        y = y + self.PE\n",
    "        y = self.dropout_decoding_input(y,training=training)\n",
    "        \n",
    "        dec_output = self.decoder(y, encoder_output, training=training, \n",
    "                                  look_ahead_mask=look_ahead_mask, padding_mask=dec_padding_mask)\n",
    "        \n",
    "        \n",
    "        pred =  tf.matmul(self.embedding,dec_output,transpose_b=True)\n",
    "        pred = tf.nn.softmax(pred)\n",
    "        \n",
    "        return pred\n",
    "    \n",
    "    "
   ]
  },
  {
   "cell_type": "code",
   "execution_count": 23,
   "id": "734af379",
   "metadata": {
    "execution": {
     "iopub.execute_input": "2025-01-31T16:10:04.390060Z",
     "iopub.status.busy": "2025-01-31T16:10:04.389613Z",
     "iopub.status.idle": "2025-01-31T16:10:04.737242Z",
     "shell.execute_reply": "2025-01-31T16:10:04.736737Z"
    },
    "papermill": {
     "duration": 0.376833,
     "end_time": "2025-01-31T16:10:04.737385",
     "exception": false,
     "start_time": "2025-01-31T16:10:04.360552",
     "status": "completed"
    },
    "tags": []
   },
   "outputs": [
    {
     "name": "stdout",
     "output_type": "stream",
     "text": [
      "(3, 29, 11)\n",
      "Model: \"transformer\"\n",
      "_________________________________________________________________\n",
      "Layer (type)                 Output Shape              Param #   \n",
      "=================================================================\n",
      "dropout_35 (Dropout)         multiple                  0         \n",
      "_________________________________________________________________\n",
      "dropout_36 (Dropout)         multiple                  0         \n",
      "_________________________________________________________________\n",
      "encoder_1 (Encoder)          multiple                  18902016  \n",
      "_________________________________________________________________\n",
      "decoder_1 (Decoder)          multiple                  25199616  \n",
      "=================================================================\n",
      "Total params: 44,116,480\n",
      "Trainable params: 44,116,480\n",
      "Non-trainable params: 0\n",
      "_________________________________________________________________\n"
     ]
    }
   ],
   "source": [
    "N, H, d_model, dk, dv, dff = 6, 8, 512, 64, 64, 2048\n",
    "vocab_size, T =29, 11\n",
    "batch_size = 3\n",
    "\n",
    "\n",
    "transformer = Transformer(N, H, d_model, dk, dv, dff, \n",
    "                 vocab_size, T)\n",
    "\n",
    "input_shape = (None, T,vocab_size)\n",
    "\n",
    "\n",
    "x = tf.random.uniform((batch_size, T, vocab_size))\n",
    "y =  tf.random.uniform((batch_size, T, vocab_size))\n",
    "\n",
    "pred = transformer(x,y,training=True)\n",
    "print(pred.shape)\n",
    "\n",
    "transformer.summary()"
   ]
  },
  {
   "cell_type": "markdown",
   "id": "d38c2e41",
   "metadata": {
    "papermill": {
     "duration": 0.0242,
     "end_time": "2025-01-31T16:10:04.786591",
     "exception": false,
     "start_time": "2025-01-31T16:10:04.762391",
     "status": "completed"
    },
    "tags": []
   },
   "source": [
    "## Learning rate scheduler"
   ]
  },
  {
   "cell_type": "code",
   "execution_count": 24,
   "id": "d634c4e0",
   "metadata": {
    "execution": {
     "iopub.execute_input": "2025-01-31T16:10:04.840126Z",
     "iopub.status.busy": "2025-01-31T16:10:04.839677Z",
     "iopub.status.idle": "2025-01-31T16:10:04.842309Z",
     "shell.execute_reply": "2025-01-31T16:10:04.841872Z"
    },
    "papermill": {
     "duration": 0.031173,
     "end_time": "2025-01-31T16:10:04.842412",
     "exception": false,
     "start_time": "2025-01-31T16:10:04.811239",
     "status": "completed"
    },
    "tags": []
   },
   "outputs": [],
   "source": [
    "#We implement a callback that should be called during training to update the learning rate\n",
    "\n",
    "warmup_step = 4000\n",
    "class LearningRateScheduler(tf.keras.callbacks.Callback):\n",
    "    def on_train_batch_start(self, i, batch_logs):\n",
    "        transformer.optimizer.lr = dk**(-0.5)*min(i**(-0.5),warmup_step**(-3/2)*i)\n",
    "\n",
    "\n",
    "callback = LearningRateScheduler()\n"
   ]
  },
  {
   "cell_type": "markdown",
   "id": "06a171d7",
   "metadata": {
    "papermill": {
     "duration": 0.024365,
     "end_time": "2025-01-31T16:10:04.891162",
     "exception": false,
     "start_time": "2025-01-31T16:10:04.866797",
     "status": "completed"
    },
    "tags": []
   },
   "source": [
    "## Compilation of the model"
   ]
  },
  {
   "cell_type": "code",
   "execution_count": 25,
   "id": "f986cf36",
   "metadata": {
    "execution": {
     "iopub.execute_input": "2025-01-31T16:10:04.949768Z",
     "iopub.status.busy": "2025-01-31T16:10:04.948999Z",
     "iopub.status.idle": "2025-01-31T16:10:04.955042Z",
     "shell.execute_reply": "2025-01-31T16:10:04.954692Z"
    },
    "papermill": {
     "duration": 0.036852,
     "end_time": "2025-01-31T16:10:04.955137",
     "exception": false,
     "start_time": "2025-01-31T16:10:04.918285",
     "status": "completed"
    },
    "tags": []
   },
   "outputs": [],
   "source": [
    "optimizer = tf.keras.optimizers.Adam(learning_rate=0, beta_1=0.9, beta_2=0.98, epsilon=1e-09)\n",
    "\n",
    "transformer.compile(loss='crossentropy',optimizer=optimizer,metrics=['accuracy'])"
   ]
  }
 ],
 "metadata": {
  "kaggle": {
   "accelerator": "nvidiaTeslaT4",
   "dataSources": [],
   "dockerImageVersionId": 30157,
   "isGpuEnabled": true,
   "isInternetEnabled": true,
   "language": "python",
   "sourceType": "notebook"
  },
  "kernelspec": {
   "display_name": "Python 3",
   "language": "python",
   "name": "python3"
  },
  "language_info": {
   "codemirror_mode": {
    "name": "ipython",
    "version": 3
   },
   "file_extension": ".py",
   "mimetype": "text/x-python",
   "name": "python",
   "nbconvert_exporter": "python",
   "pygments_lexer": "ipython3",
   "version": "3.7.12"
  },
  "papermill": {
   "default_parameters": {},
   "duration": 26.438991,
   "end_time": "2025-01-31T16:10:08.685965",
   "environment_variables": {},
   "exception": null,
   "input_path": "__notebook__.ipynb",
   "output_path": "__notebook__.ipynb",
   "parameters": {},
   "start_time": "2025-01-31T16:09:42.246974",
   "version": "2.3.3"
  }
 },
 "nbformat": 4,
 "nbformat_minor": 5
}
